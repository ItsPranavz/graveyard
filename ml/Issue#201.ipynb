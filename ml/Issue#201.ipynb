{
 "cells": [
  {
   "cell_type": "code",
   "execution_count": null,
   "metadata": {},
   "outputs": [],
   "source": [
    "import numpy as np\n",
    "import math\n",
    "n1=int(input('Enter no. of elements in array 1-'))\n",
    "n2=int(input('Enter no. of elements in array 2-'))\n",
    "arr1=np.zeros(n1)\n",
    "arr2=np.zeros(n2)\n",
    "for i1 in range(0,n1):\n",
    "    arr1[i1]=int(input('Enter the element of array 1'))\n",
    "print(arr1)\n",
    "for i2 in range(0,n2):\n",
    "    arr2[i2]=int(input('Enter the element of array 2'))\n",
    "print(arr2)\n",
    "if (n1==n2):\n",
    "    a=0\n",
    "    b=0\n",
    "    o=0\n",
    "    for i in range (0,n1):\n",
    "        b=(arr1[i]-arr2[i])**2\n",
    "        a+=b\n",
    "    o=math.sqrt(a)\n",
    "    print('output:',o)\n",
    "else:\n",
    "    print('''Error\n",
    "    array's size not same''')\n",
    "        "
   ]
  }
 ],
 "metadata": {
  "language_info": {
   "name": "python"
  },
  "orig_nbformat": 4
 },
 "nbformat": 4,
 "nbformat_minor": 2
}
